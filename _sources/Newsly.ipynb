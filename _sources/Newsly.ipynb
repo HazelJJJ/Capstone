{
 "cells": [
  {
   "cell_type": "markdown",
   "id": "04338a07",
   "metadata": {},
   "source": [
    "# Audio Listening Preference\n",
    "\n",
    "Authors: Rahul Kuriyedath, Hazel Jiang, Marc Sun"
   ]
  },
  {
   "cell_type": "markdown",
   "id": "633bf703",
   "metadata": {},
   "source": [
    "## Executive Summary\n",
    "\n",
    "As an audio news aggregator mobile APP, Newsly reads the latest trending web articles to users in a natural human voice. It has a great interface where users can view the top trending articles of the day on the home page, select news articles by country and choose articles by category. In addition to the variety of functions Newsly has, we believe a recommendation system could make the APP more attractive to users. In this proposal, we plan to apply two methods on Newsly’s data set to make recommendations to users on audio articles they might be interested in. The first method is the general approach, which recommends based on popularity of previous user listening history. This approach is more suitable for new users that have not clicked on any articles yet. The other method is the article specific approach, which recommends based on related topics. Since we do not have a large amount of data, there exist some limitations to both approaches. Further development may involve actions like eliminating noise factors (test users) from the data set, and making more personalized recommendations with data that link users and articles together."
   ]
  },
  {
   "cell_type": "markdown",
   "id": "ecddd817",
   "metadata": {},
   "source": [
    "## Introduction\n",
    "\n",
    "Nowadays, there are hundreds of news articles generated and posted hourly. With a massive amount of information, it is hard for users to quickly find what they are interested in{cite}`recommendation`. A recommendation system helps with this problem. In this capstone, we propose to develop two methods that make recommendations to users that could improve user experience and increase user engagement.\n",
    "\n",
    "- General Recommendation: Provide generic recommendations based on the news articles that are most popular among users on the application. \n",
    "- Article-Specific Recommendation: Using a specific news article to make recommendations based on the related topics.\n",
    "\n",
    "We would like to have our code in Python files as our end product and deploy it to cloud (either AWS or Canarie) for Newsly to run on their own."
   ]
  },
  {
   "cell_type": "markdown",
   "id": "fcf11e88",
   "metadata": {},
   "source": [
    "### *EDA*\n",
    "\n",
    "Newsly uses both AWS and Google Analytics to store their data. Data in AWS are mainly information about users and news articles while data in Google Analytics are events and activity counts. After going through all the data on both platforms, we find three tables useful. The first one is the `listened article` shown in Figure 1. It contains the title of the article that existing users have clicked on and the total number of clicks. This information helps us to define the popular topics existing users were interested in."
   ]
  },
  {
   "cell_type": "code",
   "execution_count": 5,
   "id": "e2517bdc",
   "metadata": {
    "tags": [
     "hide-input"
    ]
   },
   "outputs": [
    {
     "data": {
      "text/html": [
       "<style  type=\"text/css\" >\n",
       "#T_1d6eb8fe_b514_11eb_8cd8_5cf3709ba047row0_col0,#T_1d6eb8fe_b514_11eb_8cd8_5cf3709ba047row0_col1,#T_1d6eb8fe_b514_11eb_8cd8_5cf3709ba047row1_col0,#T_1d6eb8fe_b514_11eb_8cd8_5cf3709ba047row1_col1,#T_1d6eb8fe_b514_11eb_8cd8_5cf3709ba047row2_col0,#T_1d6eb8fe_b514_11eb_8cd8_5cf3709ba047row2_col1,#T_1d6eb8fe_b514_11eb_8cd8_5cf3709ba047row3_col0,#T_1d6eb8fe_b514_11eb_8cd8_5cf3709ba047row3_col1,#T_1d6eb8fe_b514_11eb_8cd8_5cf3709ba047row4_col0,#T_1d6eb8fe_b514_11eb_8cd8_5cf3709ba047row4_col1{\n",
       "            background-color:  lightgreen;\n",
       "        }</style><table id=\"T_1d6eb8fe_b514_11eb_8cd8_5cf3709ba047\" ><thead>    <tr>        <th class=\"col_heading level0 col0\" >Trend</th>        <th class=\"col_heading level0 col1\" >Total Clicks</th>        <th class=\"col_heading level0 col2\" >Total users</th>    </tr></thead><tbody>\n",
       "                <tr>\n",
       "                                <td id=\"T_1d6eb8fe_b514_11eb_8cd8_5cf3709ba047row0_col0\" class=\"data row0 col0\" >(not set)</td>\n",
       "                        <td id=\"T_1d6eb8fe_b514_11eb_8cd8_5cf3709ba047row0_col1\" class=\"data row0 col1\" >292</td>\n",
       "                        <td id=\"T_1d6eb8fe_b514_11eb_8cd8_5cf3709ba047row0_col2\" class=\"data row0 col2\" >100</td>\n",
       "            </tr>\n",
       "            <tr>\n",
       "                                <td id=\"T_1d6eb8fe_b514_11eb_8cd8_5cf3709ba047row1_col0\" class=\"data row1 col0\" >Elon Musk is donating a $100 million prize for carbon capture technology — here's what that means</td>\n",
       "                        <td id=\"T_1d6eb8fe_b514_11eb_8cd8_5cf3709ba047row1_col1\" class=\"data row1 col1\" >13</td>\n",
       "                        <td id=\"T_1d6eb8fe_b514_11eb_8cd8_5cf3709ba047row1_col2\" class=\"data row1 col2\" >4</td>\n",
       "            </tr>\n",
       "            <tr>\n",
       "                                <td id=\"T_1d6eb8fe_b514_11eb_8cd8_5cf3709ba047row2_col0\" class=\"data row2 col0\" >Ashley Biden rocked a tuxedo on inauguration night — and it was everything</td>\n",
       "                        <td id=\"T_1d6eb8fe_b514_11eb_8cd8_5cf3709ba047row2_col1\" class=\"data row2 col1\" >12</td>\n",
       "                        <td id=\"T_1d6eb8fe_b514_11eb_8cd8_5cf3709ba047row2_col2\" class=\"data row2 col2\" >10</td>\n",
       "            </tr>\n",
       "            <tr>\n",
       "                                <td id=\"T_1d6eb8fe_b514_11eb_8cd8_5cf3709ba047row3_col0\" class=\"data row3 col0\" >Longtime home run king Hank Aaron dies at 86</td>\n",
       "                        <td id=\"T_1d6eb8fe_b514_11eb_8cd8_5cf3709ba047row3_col1\" class=\"data row3 col1\" >11</td>\n",
       "                        <td id=\"T_1d6eb8fe_b514_11eb_8cd8_5cf3709ba047row3_col2\" class=\"data row3 col2\" >7</td>\n",
       "            </tr>\n",
       "            <tr>\n",
       "                                <td id=\"T_1d6eb8fe_b514_11eb_8cd8_5cf3709ba047row4_col0\" class=\"data row4 col0\" >Kamala Harris: The Vice President</td>\n",
       "                        <td id=\"T_1d6eb8fe_b514_11eb_8cd8_5cf3709ba047row4_col1\" class=\"data row4 col1\" >10</td>\n",
       "                        <td id=\"T_1d6eb8fe_b514_11eb_8cd8_5cf3709ba047row4_col2\" class=\"data row4 col2\" >10</td>\n",
       "            </tr>\n",
       "    </tbody></table>"
      ],
      "text/plain": [
       "<pandas.io.formats.style.Styler at 0x284576ebdf0>"
      ]
     },
     "execution_count": 5,
     "metadata": {},
     "output_type": "execute_result"
    }
   ],
   "source": [
    "import pandas as pd\n",
    "listened_article = pd.read_csv('data\\listened_article_2021.csv',skiprows=249).rename(columns={\"Custom parameter\":\"Trend\", \"Event count\":\"Total Clicks\"}).head()\n",
    "def highlight_cols(s):\n",
    "    color = 'lightgreen'\n",
    "    return 'background-color: %s' % color\n",
    "listened_article.style.applymap(highlight_cols, subset=pd.IndexSlice[:,['Trend','Total Clicks']]).hide_index()"
   ]
  },
  {
   "cell_type": "markdown",
   "id": "16dc8e12",
   "metadata": {},
   "source": [
    "```{glue:figure} table_1\n",
    ":figwidth: 300px\n",
    ":name: \"tbl:df\"\n",
    "Articles existing users have listened\n",
    "```"
   ]
  },
  {
   "cell_type": "markdown",
   "id": "cc3112cb",
   "metadata": {},
   "source": [
    "Figure 2 contains all archives of past articles that were shown in the APP with both the title and the full text of the article. We plan to use these data in the article-specific approach to find articles with similar contents."
   ]
  },
  {
   "cell_type": "code",
   "execution_count": 12,
   "id": "0b02bd37",
   "metadata": {
    "tags": [
     "hide-input"
    ]
   },
   "outputs": [
    {
     "data": {
      "text/html": [
       "<style  type=\"text/css\" >\n",
       "#T_021db13b_b515_11eb_89a3_5cf3709ba047row0_col1,#T_021db13b_b515_11eb_89a3_5cf3709ba047row0_col2,#T_021db13b_b515_11eb_89a3_5cf3709ba047row1_col1,#T_021db13b_b515_11eb_89a3_5cf3709ba047row1_col2,#T_021db13b_b515_11eb_89a3_5cf3709ba047row2_col1,#T_021db13b_b515_11eb_89a3_5cf3709ba047row2_col2,#T_021db13b_b515_11eb_89a3_5cf3709ba047row3_col1,#T_021db13b_b515_11eb_89a3_5cf3709ba047row3_col2,#T_021db13b_b515_11eb_89a3_5cf3709ba047row4_col1,#T_021db13b_b515_11eb_89a3_5cf3709ba047row4_col2{\n",
       "            background-color:  lightgreen;\n",
       "        }</style><table id=\"T_021db13b_b515_11eb_89a3_5cf3709ba047\" ><thead>    <tr>        <th class=\"col_heading level0 col0\" >Date</th>        <th class=\"col_heading level0 col1\" >Trend</th>        <th class=\"col_heading level0 col2\" >TEXT</th>    </tr></thead><tbody>\n",
       "                <tr>\n",
       "                                <td id=\"T_021db13b_b515_11eb_89a3_5cf3709ba047row0_col0\" class=\"data row0 col0\" >2021-04-16 11:05:15.075547-07:00</td>\n",
       "                        <td id=\"T_021db13b_b515_11eb_89a3_5cf3709ba047row0_col1\" class=\"data row0 col1\" >Ontario COVID</td>\n",
       "                        <td id=\"T_021db13b_b515_11eb_89a3_5cf3709ba047row0_col2\" class=\"data row0 col2\" >TORONTO - .  Without a stay-at-home order lasting six weeks, a more robust vacci...</td>\n",
       "            </tr>\n",
       "            <tr>\n",
       "                                <td id=\"T_021db13b_b515_11eb_89a3_5cf3709ba047row1_col0\" class=\"data row1 col0\" >2021-02-25 12:06:10.848151-08:00</td>\n",
       "                        <td id=\"T_021db13b_b515_11eb_89a3_5cf3709ba047row1_col1\" class=\"data row1 col1\" >Charlie Munger</td>\n",
       "                        <td id=\"T_021db13b_b515_11eb_89a3_5cf3709ba047row1_col2\" class=\"data row1 col2\" > Berkshire Hathaway Vice Chairman Charlie Munger gave his views about Robinhood,...</td>\n",
       "            </tr>\n",
       "            <tr>\n",
       "                                <td id=\"T_021db13b_b515_11eb_89a3_5cf3709ba047row2_col0\" class=\"data row2 col0\" >2020-12-13 09:03:45.175009-08:00</td>\n",
       "                        <td id=\"T_021db13b_b515_11eb_89a3_5cf3709ba047row2_col1\" class=\"data row2 col1\" >Crystal Palace vs Tottenham</td>\n",
       "                        <td id=\"T_021db13b_b515_11eb_89a3_5cf3709ba047row2_col2\" class=\"data row2 col2\" >Crystal Palace v Spurs \\xe2\\x80\\x93 history, stats and facts | Tottenham Hotspur...</td>\n",
       "            </tr>\n",
       "            <tr>\n",
       "                                <td id=\"T_021db13b_b515_11eb_89a3_5cf3709ba047row3_col0\" class=\"data row3 col0\" >2020-12-13 15:06:40.845662-08:00</td>\n",
       "                        <td id=\"T_021db13b_b515_11eb_89a3_5cf3709ba047row3_col1\" class=\"data row3 col1\" >Jordyn Huitema</td>\n",
       "                        <td id=\"T_021db13b_b515_11eb_89a3_5cf3709ba047row3_col2\" class=\"data row3 col2\" >Vikings vs. Buccaneers highlights | Week 14. The Canadian PressHenry runs wild, ...</td>\n",
       "            </tr>\n",
       "            <tr>\n",
       "                                <td id=\"T_021db13b_b515_11eb_89a3_5cf3709ba047row4_col0\" class=\"data row4 col0\" >2021-02-20 23:06:14.307117-08:00</td>\n",
       "                        <td id=\"T_021db13b_b515_11eb_89a3_5cf3709ba047row4_col1\" class=\"data row4 col1\" >Genesis Invitational</td>\n",
       "                        <td id=\"T_021db13b_b515_11eb_89a3_5cf3709ba047row4_col2\" class=\"data row4 col2\" >Major champion misses a putt by 40 feet, then play is suspended.  Keegan Bradley...</td>\n",
       "            </tr>\n",
       "    </tbody></table>"
      ],
      "text/plain": [
       "<pandas.io.formats.style.Styler at 0x284558c0190>"
      ]
     },
     "execution_count": 12,
     "metadata": {},
     "output_type": "execute_result"
    }
   ],
   "source": [
    "trendinfo = pd.read_csv('data/trendinfo.txt',sep='\\t', names=['name', 'content', 'drop']).drop(columns='drop')\n",
    "trendinfo_clean = {'Date':pd.to_datetime(trendinfo.query('name == \"DATE\"').content.replace({'.PDT', '.PST'}, ' America/Vancouver', regex=True), \n",
    "                                         format='%H:%M:%S.%f - %b %d %Y %Z'), \n",
    "                   'Trend':trendinfo.query('name == \"TREND\"').content.to_list(),\n",
    "                   'TEXT':trendinfo.query('name == \"TEXT\"').content.to_list()}\n",
    "trendinfo_clean = pd.DataFrame(trendinfo_clean)\n",
    "trendinfo_clean_head = trendinfo_clean.head().copy()\n",
    "trendinfo_clean_head.TEXT = trendinfo_clean_head.TEXT.apply(lambda x: x[:70]+'...')\n",
    "trendinfo_clean_head.style.applymap(highlight_cols, subset=pd.IndexSlice[:,['Trend','TEXT']]).hide_index()"
   ]
  },
  {
   "cell_type": "markdown",
   "id": "f324cff6",
   "metadata": {},
   "source": [
    "```{glue:figure} table_1\n",
    ":figwidth: 300px\n",
    ":name: \"tbl:df\"\n",
    "Archived articles with body of text\n",
    "```"
   ]
  },
  {
   "cell_type": "markdown",
   "id": "3c80223d",
   "metadata": {},
   "source": [
    "Figure 3 indicates all the news articles that are currently showing in the APP. We will make recommendations from articles that are presented in this table. Table 3 is also the most informative table with article title, domain, categories and etc. Right now we are only using the article title, but as we develop our methods, other information might be put into consideration as well"
   ]
  },
  {
   "cell_type": "code",
   "execution_count": 9,
   "id": "319bcba3",
   "metadata": {
    "tags": [
     "hide-input"
    ]
   },
   "outputs": [
    {
     "data": {
      "text/html": [
       "<style  type=\"text/css\" >\n",
       "#T_bceacbfa_b514_11eb_b6a1_5cf3709ba047row0_col0,#T_bceacbfa_b514_11eb_b6a1_5cf3709ba047row0_col1,#T_bceacbfa_b514_11eb_b6a1_5cf3709ba047row0_col5,#T_bceacbfa_b514_11eb_b6a1_5cf3709ba047row1_col0,#T_bceacbfa_b514_11eb_b6a1_5cf3709ba047row1_col1,#T_bceacbfa_b514_11eb_b6a1_5cf3709ba047row1_col5,#T_bceacbfa_b514_11eb_b6a1_5cf3709ba047row2_col0,#T_bceacbfa_b514_11eb_b6a1_5cf3709ba047row2_col1,#T_bceacbfa_b514_11eb_b6a1_5cf3709ba047row2_col5,#T_bceacbfa_b514_11eb_b6a1_5cf3709ba047row3_col0,#T_bceacbfa_b514_11eb_b6a1_5cf3709ba047row3_col1,#T_bceacbfa_b514_11eb_b6a1_5cf3709ba047row3_col5,#T_bceacbfa_b514_11eb_b6a1_5cf3709ba047row4_col0,#T_bceacbfa_b514_11eb_b6a1_5cf3709ba047row4_col1,#T_bceacbfa_b514_11eb_b6a1_5cf3709ba047row4_col5{\n",
       "            background-color:  lightgreen;\n",
       "        }</style><table id=\"T_bceacbfa_b514_11eb_b6a1_5cf3709ba047\" ><thead>    <tr>        <th class=\"col_heading level0 col0\" >trend</th>        <th class=\"col_heading level0 col1\" >categories</th>        <th class=\"col_heading level0 col2\" >countries</th>        <th class=\"col_heading level0 col3\" >created</th>        <th class=\"col_heading level0 col4\" >domain</th>        <th class=\"col_heading level0 col5\" >duration</th>        <th class=\"col_heading level0 col6\" >processed</th>        <th class=\"col_heading level0 col7\" >traffic</th>    </tr></thead><tbody>\n",
       "                <tr>\n",
       "                                <td id=\"T_bceacbfa_b514_11eb_b6a1_5cf3709ba047row0_col0\" class=\"data row0 col0\" >Friends: The Reunion' trailer drops  special guests include Justin Bieber, Lady Gaga and BTS</td>\n",
       "                        <td id=\"T_bceacbfa_b514_11eb_b6a1_5cf3709ba047row0_col1\" class=\"data row0 col1\" >ENTERTAINMENT</td>\n",
       "                        <td id=\"T_bceacbfa_b514_11eb_b6a1_5cf3709ba047row0_col2\" class=\"data row0 col2\" >US, CA</td>\n",
       "                        <td id=\"T_bceacbfa_b514_11eb_b6a1_5cf3709ba047row0_col3\" class=\"data row0 col3\" >1620954600</td>\n",
       "                        <td id=\"T_bceacbfa_b514_11eb_b6a1_5cf3709ba047row0_col4\" class=\"data row0 col4\" >nme.com</td>\n",
       "                        <td id=\"T_bceacbfa_b514_11eb_b6a1_5cf3709ba047row0_col5\" class=\"data row0 col5\" >1:54</td>\n",
       "                        <td id=\"T_bceacbfa_b514_11eb_b6a1_5cf3709ba047row0_col6\" class=\"data row0 col6\" >1620954600</td>\n",
       "                        <td id=\"T_bceacbfa_b514_11eb_b6a1_5cf3709ba047row0_col7\" class=\"data row0 col7\" >CA: 0,  US: 0</td>\n",
       "            </tr>\n",
       "            <tr>\n",
       "                                <td id=\"T_bceacbfa_b514_11eb_b6a1_5cf3709ba047row1_col0\" class=\"data row1 col0\" >A mysterious 'hum' vibrates interstellar space. Voyager 1 has a recording of it.</td>\n",
       "                        <td id=\"T_bceacbfa_b514_11eb_b6a1_5cf3709ba047row1_col1\" class=\"data row1 col1\" >SCIENCE</td>\n",
       "                        <td id=\"T_bceacbfa_b514_11eb_b6a1_5cf3709ba047row1_col2\" class=\"data row1 col2\" >US, CA</td>\n",
       "                        <td id=\"T_bceacbfa_b514_11eb_b6a1_5cf3709ba047row1_col3\" class=\"data row1 col3\" >1620954600</td>\n",
       "                        <td id=\"T_bceacbfa_b514_11eb_b6a1_5cf3709ba047row1_col4\" class=\"data row1 col4\" >livescience.com</td>\n",
       "                        <td id=\"T_bceacbfa_b514_11eb_b6a1_5cf3709ba047row1_col5\" class=\"data row1 col5\" >3:21</td>\n",
       "                        <td id=\"T_bceacbfa_b514_11eb_b6a1_5cf3709ba047row1_col6\" class=\"data row1 col6\" >1620868200</td>\n",
       "                        <td id=\"T_bceacbfa_b514_11eb_b6a1_5cf3709ba047row1_col7\" class=\"data row1 col7\" >CA: 0,  US: 0</td>\n",
       "            </tr>\n",
       "            <tr>\n",
       "                                <td id=\"T_bceacbfa_b514_11eb_b6a1_5cf3709ba047row2_col0\" class=\"data row2 col0\" >Adidas and Allbirds Team Up to Make Sustainable Running Shoes</td>\n",
       "                        <td id=\"T_bceacbfa_b514_11eb_b6a1_5cf3709ba047row2_col1\" class=\"data row2 col1\" >BUSINESS</td>\n",
       "                        <td id=\"T_bceacbfa_b514_11eb_b6a1_5cf3709ba047row2_col2\" class=\"data row2 col2\" >US, CA</td>\n",
       "                        <td id=\"T_bceacbfa_b514_11eb_b6a1_5cf3709ba047row2_col3\" class=\"data row2 col3\" >1620954600</td>\n",
       "                        <td id=\"T_bceacbfa_b514_11eb_b6a1_5cf3709ba047row2_col4\" class=\"data row2 col4\" >wired.com</td>\n",
       "                        <td id=\"T_bceacbfa_b514_11eb_b6a1_5cf3709ba047row2_col5\" class=\"data row2 col5\" >6:32</td>\n",
       "                        <td id=\"T_bceacbfa_b514_11eb_b6a1_5cf3709ba047row2_col6\" class=\"data row2 col6\" >1620868200</td>\n",
       "                        <td id=\"T_bceacbfa_b514_11eb_b6a1_5cf3709ba047row2_col7\" class=\"data row2 col7\" >CA: 0,  US: 0</td>\n",
       "            </tr>\n",
       "            <tr>\n",
       "                                <td id=\"T_bceacbfa_b514_11eb_b6a1_5cf3709ba047row3_col0\" class=\"data row3 col0\" >Apple Execs Chose to Keep a Hack of 128 Million iPhones Quiet</td>\n",
       "                        <td id=\"T_bceacbfa_b514_11eb_b6a1_5cf3709ba047row3_col1\" class=\"data row3 col1\" >TECHNOLOGY</td>\n",
       "                        <td id=\"T_bceacbfa_b514_11eb_b6a1_5cf3709ba047row3_col2\" class=\"data row3 col2\" >US, CA</td>\n",
       "                        <td id=\"T_bceacbfa_b514_11eb_b6a1_5cf3709ba047row3_col3\" class=\"data row3 col3\" >1620954600</td>\n",
       "                        <td id=\"T_bceacbfa_b514_11eb_b6a1_5cf3709ba047row3_col4\" class=\"data row3 col4\" >wired.com</td>\n",
       "                        <td id=\"T_bceacbfa_b514_11eb_b6a1_5cf3709ba047row3_col5\" class=\"data row3 col5\" >4:03</td>\n",
       "                        <td id=\"T_bceacbfa_b514_11eb_b6a1_5cf3709ba047row3_col6\" class=\"data row3 col6\" >1620695399</td>\n",
       "                        <td id=\"T_bceacbfa_b514_11eb_b6a1_5cf3709ba047row3_col7\" class=\"data row3 col7\" >CA: 0,  US: 0</td>\n",
       "            </tr>\n",
       "            <tr>\n",
       "                                <td id=\"T_bceacbfa_b514_11eb_b6a1_5cf3709ba047row4_col0\" class=\"data row4 col0\" >Asus ZenFone 8 delivers Snapdragon 888 from $599</td>\n",
       "                        <td id=\"T_bceacbfa_b514_11eb_b6a1_5cf3709ba047row4_col1\" class=\"data row4 col1\" >TECHNOLOGY</td>\n",
       "                        <td id=\"T_bceacbfa_b514_11eb_b6a1_5cf3709ba047row4_col2\" class=\"data row4 col2\" >US, CA</td>\n",
       "                        <td id=\"T_bceacbfa_b514_11eb_b6a1_5cf3709ba047row4_col3\" class=\"data row4 col3\" >1620954600</td>\n",
       "                        <td id=\"T_bceacbfa_b514_11eb_b6a1_5cf3709ba047row4_col4\" class=\"data row4 col4\" >9to5google.com</td>\n",
       "                        <td id=\"T_bceacbfa_b514_11eb_b6a1_5cf3709ba047row4_col5\" class=\"data row4 col5\" >2:16</td>\n",
       "                        <td id=\"T_bceacbfa_b514_11eb_b6a1_5cf3709ba047row4_col6\" class=\"data row4 col6\" >1620868200</td>\n",
       "                        <td id=\"T_bceacbfa_b514_11eb_b6a1_5cf3709ba047row4_col7\" class=\"data row4 col7\" >CA: 0,  US: 0</td>\n",
       "            </tr>\n",
       "    </tbody></table>"
      ],
      "text/plain": [
       "<pandas.io.formats.style.Styler at 0x28458d5cd90>"
      ]
     },
     "execution_count": 9,
     "metadata": {},
     "output_type": "execute_result"
    }
   ],
   "source": [
    "pd.read_csv('data/Trends.csv').style.applymap(highlight_cols, subset=pd.IndexSlice[:,['trend','categories','duration']]).hide_index()"
   ]
  },
  {
   "cell_type": "markdown",
   "id": "8a72021a",
   "metadata": {},
   "source": [
    "```{glue:figure} table_1\n",
    ":figwidth: 150px\n",
    ":name: \"tbl:df\"\n",
    "Articles currently presenting in the APP\n",
    "```"
   ]
  },
  {
   "cell_type": "markdown",
   "id": "6203d7d7",
   "metadata": {},
   "source": [
    "## Data Science Techniques\n",
    "\n",
    "### *General Recommendation:*\n",
    "\n",
    "General recommendation implies non-user-specific recommendation, which means the same content will be recommended to all the users, and the recommendation is not personalized. This method is expected to be mainly applied for new users. Because if the user’s browsing history and listening preference are unknown, the app should simply provide recommendations of popular articles.\n",
    "\n",
    "Determining whether an article is popular is straightforward if it has already been published for at least one day, since the number of views/listens can be observed. However, if an article is newly published, the system will have to predict the popularity of that article.\n",
    "\n",
    "The core idea in popularity prediction is determining whether an article belongs to a popular topic. For example, from the past records, the system found that COVID-19 has been a very popular topic in the past few days. If a newly published article is also about COVID-19, then the system should be recommending this new article. To achieve this, a variety of machine learning techniques, especially natural language processing techniques would be applied.\n",
    "\n",
    "There are two main processes for this approach, process A is classifying the historical articles by different topics, process B involves making popularity predictions based on the result from process A, below are the detailed descriptions.\n",
    "\n",
    "Figure 2 represent the two main process of the general recommendation approach.\n",
    "\n",
    "```{figure} images/general.png\n",
    "---\n",
    "height: 400px\n",
    "name: geneal_approach\n",
    "---\n",
    "Illustration of general recommendation approach\n",
    "```\n",
    "\n",
    "### *Article-specific recommendations:*\n",
    "\n",
    "The general recommendation approach described in the previous section would be advantageous when a new user uses the Newsly application for the very first time. Articles would be recommended to the user based on popularity among other listeners. However, this approach is limited since it cannot provide personalized recommendations to each and every user based on the articles that they decide to listen to. This is where the article-specific recommendations come in.\n",
    "\n",
    "An article-specific recommendation refers to an article that may be related to another article that the user has clicked on. For example, suppose a user clicks on an article titled “Canada to get two million Pfizer vaccine doses”. An example of a related article that could be recommended to the user could be: “80% of Canadians support COVID-19 vaccine passports for travel: poll”. This is what we aim to do with article-specific recommendations.\n",
    "\n",
    "Our main idea is to build a system that can identify which articles that are currently present on the Newsly application are related to each other. Once these relations between articles have been established, recommendations can be made for a user in real-time i.e. when an article is clicked.\n",
    "\n",
    "There are 2 main processes that are a part of this approach that we have labelled process A and B. The high level view of these are shown below in Figure 3 and Figure 4:\n",
    "\n",
    "```{figure} images/input_output.png\n",
    "---\n",
    "height: 400px\n",
    "name: input_1\n",
    "---\n",
    "Process A: Create Index of articles in Trends table\n",
    "```\n",
    "```{figure} images/input_output_2.png\n",
    "---\n",
    "height: 400px\n",
    "name: input_2\n",
    "---\n",
    "Process B: Recommend top 'N' articles related to what the user clicked\n",
    "```\n",
    "\n",
    "Below is the detailed description of both processes:\n",
    "\n",
    "1. **Process A:** This process is responsible for creating an index of all articles that are currently in the Trends table which will help in knowing which articles are related to each other, and will be used by process B to make recommendations for the user.\n",
    "\n",
    "The process is triggered when either of the following events occur:\n",
    "- A new article is added to the Trends table or\n",
    "- An article is deleted from the Trends table\n",
    "\n",
    "<u>Process Steps</u>: The steps of this process have been described in Fig 5\n",
    "\n",
    "```{figure} images/Process_A.png\n",
    "---\n",
    "height: 400px\n",
    "name: process_A\n",
    "---\n",
    "Process A\n",
    "```\n",
    "\n",
    "<u>Dependency</u>: This process depends on information from the Trends table\n",
    "\n",
    "<u>Process output</u>: An index of articles and relationships that will be used to recommend articles that are related to the one clicked by the user.\n",
    "\n",
    "2. **Process B:** This process recommends the top N articles related to the one that the user has just clicked on. To find related articles, the process would use the index created by Process A.\n",
    "\n",
    "This process would be triggered when a user clicks on any article in the Newsly application.\n",
    "\n",
    "<u>Process Steps</u>: The steps of this process have been described in Figure 6\n",
    "\n",
    "```{figure} images/Process_B.png\n",
    "---\n",
    "height: 400px\n",
    "name: process_B\n",
    "---\n",
    "Process B\n",
    "```\n",
    "\n",
    "<u>Dependency</u>: The URL of the article clicked by the user needs to be passed to the recommender system.\n",
    "\n",
    "<u>Process output</u>: Top N recommendations related to the article clicked by the user\n",
    "\n",
    "## Project Timeline\n",
    "\n",
    "This project will have 3 broad phases: Ideation and Brainstorming, Development of the recommendation system and final submission of data product and report. These broad phases have been broken down and explained further in the Figure 7.\n",
    "\n",
    "```{figure} images/Timeline.png\n",
    "---\n",
    "height: 400px\n",
    "name: Timeline\n",
    "---\n",
    "Capstone timeline\n",
    "```\n",
    "\n",
    "## Bibliography\n",
    "\n",
    "```{bibliography} references.bib\n",
    "```\n"
   ]
  },
  {
   "cell_type": "code",
   "execution_count": null,
   "id": "c7f5a5de",
   "metadata": {},
   "outputs": [],
   "source": []
  }
 ],
 "metadata": {
  "kernelspec": {
   "display_name": "Python 3",
   "language": "python",
   "name": "python3"
  },
  "language_info": {
   "codemirror_mode": {
    "name": "ipython",
    "version": 3
   },
   "file_extension": ".py",
   "mimetype": "text/x-python",
   "name": "python",
   "nbconvert_exporter": "python",
   "pygments_lexer": "ipython3",
   "version": "3.8.3"
  }
 },
 "nbformat": 4,
 "nbformat_minor": 5
}
